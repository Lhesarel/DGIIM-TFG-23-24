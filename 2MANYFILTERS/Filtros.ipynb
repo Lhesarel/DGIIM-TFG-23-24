{
 "cells": [
  {
   "cell_type": "markdown",
   "id": "ea67ea53",
   "metadata": {},
   "source": [
    "# Filtros"
   ]
  },
  {
   "cell_type": "markdown",
   "id": "49f4c401",
   "metadata": {},
   "source": [
    "Procedimiento de filtrado simple de señales en base a filtros paso bajo (Low-Pass Filter), paso alto (High-Pass Filter), paso banda (Band-Pass Filter) y banda eliminada (Band-Stop Filter). \n",
    "Para el filtrado, en lugar de solicitar las curvas de coeficientes del filtro, meramente se pedirán los umbrales precisos, que definirán separaciones entre subarrays de 1s y 0s, valores únicos de coeficientes permitidos (se trata, por tanto, de un filtrado teórico ideal). "
   ]
  },
  {
   "cell_type": "code",
   "execution_count": 14,
   "id": "cc2b48b0",
   "metadata": {
    "scrolled": true
   },
   "outputs": [
    {
     "name": "stdout",
     "output_type": "stream",
     "text": [
      "Sample rate: 44100 Hz\n",
      "Signal: [0.01104736 0.01083374 0.01083374 ... 0.         0.         0.        ]\n",
      "Window size: 0.2 s = 8820 samples\n",
      "Overlapping: 0.1 s = 4410 samples\n",
      "Audio length: 13.933469387755101 s\n"
     ]
    },
    {
     "name": "stderr",
     "output_type": "stream",
     "text": [
      "<ipython-input-14-4bbb7648d514>:17: WavFileWarning: Chunk (non-data) not understood, skipping it.\n",
      "  SAMPLE_RATE, data = wavfile.read(os.path.join(PATH,AUDIO_FILE))      # Get sample rate (samples per second) and signal data\n"
     ]
    }
   ],
   "source": [
    "# Imports\n",
    "from scipy.io import wavfile\n",
    "import os\n",
    "import numpy as np\n",
    "from pathlib import Path\n",
    "\n",
    "# Inputs\n",
    "PATH = 'C:\\\\Users\\\\Javier\\\\Desktop\\\\TFG\\\\Filtros'      # Path of project's directory\n",
    "AUDIO_FILE = 'DoM-piano.wav'                                         # Audio file's name\n",
    "WINDOW_SIZE_SECS = 0.2                                               # Size of the fft window in seconds\n",
    "OVERLAPPING_SECS = WINDOW_SIZE_SECS / 2                              # Window's overlapping in seconds\n",
    "FILTER_TYPE = 'BSF'                                                # Filter type in [LPF,HPF,BPF,BSF]\n",
    "THRESHOLD1 = 400                                                     # First threshold for the filter in Hz\n",
    "THRESHOLD2 = 600                                                     # Second threshold for the filter (if necessary) in Hz\n",
    "\n",
    "# Global variables \n",
    "SAMPLE_RATE, data = wavfile.read(os.path.join(PATH,AUDIO_FILE))      # Get sample rate (samples per second) and signal data\n",
    "signal = data if data.ndim == 1 else data.T[0]                       # Get the first channel\n",
    "WINDOW_SIZE_SAMPLES = int(SAMPLE_RATE * WINDOW_SIZE_SECS)            # Size of the fft window in samples\n",
    "OVERLAPPING_SAMPLES = int(SAMPLE_RATE * OVERLAPPING_SECS)            # Size of overlapping in samples\n",
    "AUDIO_SIZE_SECS = len(signal) / SAMPLE_RATE                          # Size of the audio file in seconds\n",
    "hanning = 0.5 * (1 - np.cos(np.linspace(0,2*np.pi,WINDOW_SIZE_SAMPLES,False)))  # The hanning window function\n",
    "\n",
    "# Files' statistics\n",
    "print(\"Sample rate: \" + str(SAMPLE_RATE) + \" Hz\")                   \n",
    "print(\"Signal: \" + str(signal))                                      \n",
    "print(\"Window size: \" + str(WINDOW_SIZE_SECS) + \" s = \" + str(WINDOW_SIZE_SAMPLES) + \" samples\")\n",
    "print(\"Overlapping: \" + str(OVERLAPPING_SECS) + \" s = \" + str(OVERLAPPING_SAMPLES) + \" samples\")\n",
    "print(\"Audio length: \" + str(AUDIO_SIZE_SECS) + \" s\")\n",
    "\n",
    "# Functions\n",
    "def extract_window(audio, window_number):                                   # Returns samples of window number <window-number> and true or false whether it's the last window \n",
    "    begin = window_number * (WINDOW_SIZE_SAMPLES - OVERLAPPING_SAMPLES)\n",
    "    end = begin + WINDOW_SIZE_SAMPLES\n",
    "    \n",
    "    if end < len(signal): # Commonly\n",
    "        return False, audio[begin:end]\n",
    "    else: # The window surpasses the audio data => Complete last elements of the window with zeros\n",
    "        return True, np.concatenate([audio[begin:len(signal)-1],np.zeros(end-len(signal)+1,dtype=float)])\n",
    "    \n",
    "def analysis(window): # Compute the FFT's module curve and return x and y axes in a tuple\n",
    "    freqs = np.fft.rfftfreq(WINDOW_SIZE_SAMPLES, 1/SAMPLE_RATE) # The array of frequencies to evaluate in the fft\n",
    "    fft = np.fft.rfft(window) # Evaluations of those frequencies\n",
    "\n",
    "    return (freqs,fft)\n",
    "\n",
    "def filter_window(fft): # Filter the FFT's module function according to the selected filter and thresholds\n",
    "    if FILTER_TYPE == 'LPF':\n",
    "        filtered = [fft[1][i] if fft[0][i] <= THRESHOLD1 else 0 for i in range(0,len(fft[0]))]\n",
    "    elif FILTER_TYPE == 'HPF':\n",
    "        filtered = [fft[1][i] if fft[0][i] >= THRESHOLD1 else 0 for i in range(0,len(fft[0]))]\n",
    "    elif FILTER_TYPE == 'BPF':\n",
    "        filtered = [fft[1][i] if fft[0][i] >= THRESHOLD1 and fft[0][i] <= THRESHOLD2 else 0 for i in range(0,len(fft[0]))]\n",
    "    elif FILTER_TYPE == 'BSF':\n",
    "        filtered = [fft[1][i] if fft[0][i] <= THRESHOLD1 or fft[0][i] >= THRESHOLD2 else 0 for i in range(0,len(fft[0]))]\n",
    "    else:\n",
    "        filtered = fft[1].copy()\n",
    "\n",
    "    return filtered\n",
    "\n",
    "def synthesis(ffts): # Synthesize the new signal via the list of windows considering overlapping\n",
    "    new_signal = (np.real(np.fft.irfft(ffts[0])) * hanning).astype(data.dtype)\n",
    "    for i in range(1,len(ffts)):\n",
    "        window = (np.real(np.fft.irfft(ffts[i])) * hanning).astype(data.dtype)\n",
    "        for j in range(0,OVERLAPPING_SAMPLES):\n",
    "            new_signal[-OVERLAPPING_SAMPLES+j] = new_signal[-OVERLAPPING_SAMPLES+j] + window[j]\n",
    "        new_signal = np.append(new_signal,window[OVERLAPPING_SAMPLES:])\n",
    "    \n",
    "    return new_signal\n",
    "\n",
    "def filtering():\n",
    "    filtered_windows = []\n",
    "    window_number = 0\n",
    "    last_window = False\n",
    "    while not(last_window):\n",
    "        last_window, window = extract_window(signal,window_number)\n",
    "        window_number += 1\n",
    "        filtered_windows.append(filter_window(analysis(window)))\n",
    "    \n",
    "    filtered_signal = synthesis(filtered_windows)\n",
    "    wavfile.write(os.path.join(PATH,Path(AUDIO_FILE).stem+FILTER_TYPE+'.wav'),SAMPLE_RATE,filtered_signal)"
   ]
  },
  {
   "cell_type": "code",
   "execution_count": 15,
   "id": "9f66cf82",
   "metadata": {},
   "outputs": [],
   "source": [
    "filtering()"
   ]
  },
  {
   "cell_type": "code",
   "execution_count": null,
   "id": "98a6a11d",
   "metadata": {},
   "outputs": [],
   "source": []
  }
 ],
 "metadata": {
  "kernelspec": {
   "display_name": "Python 3",
   "language": "python",
   "name": "python3"
  },
  "language_info": {
   "codemirror_mode": {
    "name": "ipython",
    "version": 3
   },
   "file_extension": ".py",
   "mimetype": "text/x-python",
   "name": "python",
   "nbconvert_exporter": "python",
   "pygments_lexer": "ipython3",
   "version": "3.8.8"
  }
 },
 "nbformat": 4,
 "nbformat_minor": 5
}
